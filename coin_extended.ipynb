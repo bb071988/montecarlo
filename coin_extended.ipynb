{
 "cells": [
  {
   "cell_type": "code",
   "execution_count": 1,
   "metadata": {
    "collapsed": true
   },
   "outputs": [],
   "source": [
    "%matplotlib inline"
   ]
  },
  {
   "cell_type": "code",
   "execution_count": 2,
   "metadata": {
    "collapsed": true
   },
   "outputs": [],
   "source": [
    "import numpy as np\n",
    "import pandas as pd\n"
   ]
  },
  {
   "cell_type": "code",
   "execution_count": null,
   "metadata": {
    "collapsed": true
   },
   "outputs": [],
   "source": [
    "# 3. Randomly sample 50 Starbucks customers. Let\n",
    "# X = number of customers preferring lattes to cappuccinos\n",
    "# Characteristics in common:\n",
    "# • Each random variable counts number of successes in fixed number of trials.\n",
    "# • Each trial has equal probability of success.\n",
    "# • The outcome of each trial is independent.\n"
   ]
  },
  {
   "cell_type": "code",
   "execution_count": 11,
   "metadata": {},
   "outputs": [
    {
     "ename": "NameError",
     "evalue": "name 'self' is not defined",
     "output_type": "error",
     "traceback": [
      "\u001b[1;31m---------------------------------------------------------------------------\u001b[0m",
      "\u001b[1;31mNameError\u001b[0m                                 Traceback (most recent call last)",
      "\u001b[1;32m<ipython-input-11-372404c09252>\u001b[0m in \u001b[0;36m<module>\u001b[1;34m()\u001b[0m\n\u001b[0;32m      4\u001b[0m \u001b[1;31m# let's create a fair coin object that can be flipped:\u001b[0m\u001b[1;33m\u001b[0m\u001b[1;33m\u001b[0m\u001b[0m\n\u001b[0;32m      5\u001b[0m \u001b[1;33m\u001b[0m\u001b[0m\n\u001b[1;32m----> 6\u001b[1;33m \u001b[1;32mclass\u001b[0m \u001b[0mCoin\u001b[0m\u001b[1;33m(\u001b[0m\u001b[0mobject\u001b[0m\u001b[1;33m)\u001b[0m\u001b[1;33m:\u001b[0m\u001b[1;33m\u001b[0m\u001b[0m\n\u001b[0m\u001b[0;32m      7\u001b[0m     \u001b[1;34m'''this is a simple fair coin, can be pseudorandomly flipped'''\u001b[0m\u001b[1;33m\u001b[0m\u001b[0m\n\u001b[0;32m      8\u001b[0m     \u001b[0mself\u001b[0m\u001b[1;33m.\u001b[0m\u001b[0msides\u001b[0m \u001b[1;33m=\u001b[0m \u001b[1;33m(\u001b[0m\u001b[1;34m'heads'\u001b[0m\u001b[1;33m,\u001b[0m \u001b[1;34m'tails'\u001b[0m\u001b[1;33m)\u001b[0m\u001b[1;33m\u001b[0m\u001b[0m\n",
      "\u001b[1;32m<ipython-input-11-372404c09252>\u001b[0m in \u001b[0;36mCoin\u001b[1;34m()\u001b[0m\n\u001b[0;32m      6\u001b[0m \u001b[1;32mclass\u001b[0m \u001b[0mCoin\u001b[0m\u001b[1;33m(\u001b[0m\u001b[0mobject\u001b[0m\u001b[1;33m)\u001b[0m\u001b[1;33m:\u001b[0m\u001b[1;33m\u001b[0m\u001b[0m\n\u001b[0;32m      7\u001b[0m     \u001b[1;34m'''this is a simple fair coin, can be pseudorandomly flipped'''\u001b[0m\u001b[1;33m\u001b[0m\u001b[0m\n\u001b[1;32m----> 8\u001b[1;33m     \u001b[0mself\u001b[0m\u001b[1;33m.\u001b[0m\u001b[0msides\u001b[0m \u001b[1;33m=\u001b[0m \u001b[1;33m(\u001b[0m\u001b[1;34m'heads'\u001b[0m\u001b[1;33m,\u001b[0m \u001b[1;34m'tails'\u001b[0m\u001b[1;33m)\u001b[0m\u001b[1;33m\u001b[0m\u001b[0m\n\u001b[0m\u001b[0;32m      9\u001b[0m     \u001b[0mself\u001b[0m\u001b[1;33m.\u001b[0m\u001b[0mlast_result\u001b[0m \u001b[1;33m=\u001b[0m \u001b[0mNone\u001b[0m\u001b[1;33m\u001b[0m\u001b[0m\n\u001b[0;32m     10\u001b[0m \u001b[1;33m\u001b[0m\u001b[0m\n",
      "\u001b[1;31mNameError\u001b[0m: name 'self' is not defined"
     ]
    }
   ],
   "source": [
    "'''This script demonstrates simulations of coin flipping'''\n",
    "import random\n",
    "\n",
    "# let's create a fair coin object that can be flipped:\n",
    "\n",
    "class Coin(object):\n",
    "    '''this is a simple fair coin, can be pseudorandomly flipped'''\n",
    "    sides = ('heads', 'tails')\n",
    "    last_result = None\n",
    "\n",
    "    def flip(self):\n",
    "        '''call coin.flip() to flip the coin and record it as the last result'''\n",
    "        self.last_result = result = random.choice(self.sides)\n",
    "        return result\n",
    "\n",
    "# let's create some auxilliary functions to manipulate the coins:\n",
    "\n",
    "def create_coins(number):\n",
    "    '''create a list of a number of coin objects'''\n",
    "    return [Coin() for _ in xrange(number)]\n",
    "\n",
    "def flip_coins(coins):\n",
    "    '''side effect function, modifies object in place, returns None'''\n",
    "    for coin in coins:\n",
    "        coin.flip()\n",
    "\n",
    "def count_heads(flipped_coins):\n",
    "    return sum(coin.last_result == 'heads' for coin in flipped_coins)\n",
    "\n",
    "def count_tails(flipped_coins):\n",
    "    return sum(coin.last_result == 'tails' for coin in flipped_coins)\n",
    "\n",
    "\n",
    "def main():\n",
    "    coin_test_list = []\n",
    "    coins = create_coins(1000)\n",
    "    for t in xrange(10):\n",
    "        for i in xrange(100):\n",
    "            flip_coins(coins)\n",
    "            coin_test_list.append(count_heads(coins))\n",
    "    #         print(count_heads(coins))\n",
    "        results = pd.DataFrame(coin_test_list)\n",
    "        results.hist()\n",
    "    \n",
    "\n",
    "if __name__ == '__main__':\n",
    "    main()"
   ]
  },
  {
   "cell_type": "code",
   "execution_count": 6,
   "metadata": {},
   "outputs": [
    {
     "ename": "NameError",
     "evalue": "name 'coin_test_list' is not defined",
     "output_type": "error",
     "traceback": [
      "\u001b[1;31m---------------------------------------------------------------------------\u001b[0m",
      "\u001b[1;31mNameError\u001b[0m                                 Traceback (most recent call last)",
      "\u001b[1;32m<ipython-input-6-884d90547deb>\u001b[0m in \u001b[0;36m<module>\u001b[1;34m()\u001b[0m\n\u001b[1;32m----> 1\u001b[1;33m \u001b[0mcoin_test_list\u001b[0m\u001b[1;33m\u001b[0m\u001b[0m\n\u001b[0m",
      "\u001b[1;31mNameError\u001b[0m: name 'coin_test_list' is not defined"
     ]
    }
   ],
   "source": [
    "coin_test_list"
   ]
  },
  {
   "cell_type": "code",
   "execution_count": null,
   "metadata": {
    "collapsed": true
   },
   "outputs": [],
   "source": []
  }
 ],
 "metadata": {
  "kernelspec": {
   "display_name": "Python 3",
   "language": "python",
   "name": "python3"
  },
  "language_info": {
   "codemirror_mode": {
    "name": "ipython",
    "version": 3
   },
   "file_extension": ".py",
   "mimetype": "text/x-python",
   "name": "python",
   "nbconvert_exporter": "python",
   "pygments_lexer": "ipython3",
   "version": "3.6.1"
  }
 },
 "nbformat": 4,
 "nbformat_minor": 1
}
